{
 "cells": [
  {
   "cell_type": "markdown",
   "metadata": {},
   "source": [
    "### Imports"
   ]
  },
  {
   "cell_type": "code",
   "execution_count": 163,
   "metadata": {},
   "outputs": [],
   "source": [
    "import pandas as pd\n",
    "import numpy as np\n",
    "import json\n",
    "\n",
    "import sklearn\n",
    "from sklearn.feature_extraction.text import CountVectorizer\n",
    "from sklearn.model_selection import train_test_split\n",
    "from sklearn import svm\n",
    "\n",
    "from sklearn.decomposition import TruncatedSVD\n",
    "\n",
    "from modAL.models import ActiveLearner\n",
    "from modAL.uncertainty import uncertainty_sampling"
   ]
  },
  {
   "cell_type": "markdown",
   "metadata": {},
   "source": [
    "## Load Data"
   ]
  },
  {
   "cell_type": "code",
   "execution_count": 151,
   "metadata": {},
   "outputs": [],
   "source": [
    "with open('../successful.json') as f:\n",
    "    patents = json.load(f)"
   ]
  },
  {
   "cell_type": "code",
   "execution_count": 152,
   "metadata": {},
   "outputs": [
    {
     "data": {
      "text/html": [
       "<div>\n",
       "<style scoped>\n",
       "    .dataframe tbody tr th:only-of-type {\n",
       "        vertical-align: middle;\n",
       "    }\n",
       "\n",
       "    .dataframe tbody tr th {\n",
       "        vertical-align: top;\n",
       "    }\n",
       "\n",
       "    .dataframe thead th {\n",
       "        text-align: right;\n",
       "    }\n",
       "</style>\n",
       "<table border=\"1\" class=\"dataframe\">\n",
       "  <thead>\n",
       "    <tr style=\"text-align: right;\">\n",
       "      <th></th>\n",
       "      <th>id</th>\n",
       "      <th>title</th>\n",
       "      <th>abstract</th>\n",
       "      <th>seed</th>\n",
       "      <th>text</th>\n",
       "    </tr>\n",
       "  </thead>\n",
       "  <tbody>\n",
       "    <tr>\n",
       "      <th>0</th>\n",
       "      <td>8253263</td>\n",
       "      <td>Wave-power system for extracting simultaneousl...</td>\n",
       "      <td>A wave energy conversion system or device incl...</td>\n",
       "      <td>0</td>\n",
       "      <td>Wave-power system for extracting simultaneousl...</td>\n",
       "    </tr>\n",
       "    <tr>\n",
       "      <th>1</th>\n",
       "      <td>8630964</td>\n",
       "      <td>Using a genetic algorithm employing an expedit...</td>\n",
       "      <td>Apparatus and method for at least partially fi...</td>\n",
       "      <td>1</td>\n",
       "      <td>Using a genetic algorithm employing an expedit...</td>\n",
       "    </tr>\n",
       "    <tr>\n",
       "      <th>2</th>\n",
       "      <td>6311172</td>\n",
       "      <td>Method for determination of weights, suitable ...</td>\n",
       "      <td>The training phase of a neural network NN is s...</td>\n",
       "      <td>1</td>\n",
       "      <td>Method for determination of weights, suitable ...</td>\n",
       "    </tr>\n",
       "    <tr>\n",
       "      <th>3</th>\n",
       "      <td>8812414</td>\n",
       "      <td>Low-power event-driven neural computing archit...</td>\n",
       "      <td>A neural network includes an electronic synaps...</td>\n",
       "      <td>1</td>\n",
       "      <td>Low-power event-driven neural computing archit...</td>\n",
       "    </tr>\n",
       "    <tr>\n",
       "      <th>4</th>\n",
       "      <td>10380482</td>\n",
       "      <td>Training neural networks on partitioned traini...</td>\n",
       "      <td>Methods, systems, and apparatus, including com...</td>\n",
       "      <td>1</td>\n",
       "      <td>Training neural networks on partitioned traini...</td>\n",
       "    </tr>\n",
       "  </tbody>\n",
       "</table>\n",
       "</div>"
      ],
      "text/plain": [
       "         id                                              title  \\\n",
       "0   8253263  Wave-power system for extracting simultaneousl...   \n",
       "1   8630964  Using a genetic algorithm employing an expedit...   \n",
       "2   6311172  Method for determination of weights, suitable ...   \n",
       "3   8812414  Low-power event-driven neural computing archit...   \n",
       "4  10380482  Training neural networks on partitioned traini...   \n",
       "\n",
       "                                            abstract  seed  \\\n",
       "0  A wave energy conversion system or device incl...     0   \n",
       "1  Apparatus and method for at least partially fi...     1   \n",
       "2  The training phase of a neural network NN is s...     1   \n",
       "3  A neural network includes an electronic synaps...     1   \n",
       "4  Methods, systems, and apparatus, including com...     1   \n",
       "\n",
       "                                                text  \n",
       "0  Wave-power system for extracting simultaneousl...  \n",
       "1  Using a genetic algorithm employing an expedit...  \n",
       "2  Method for determination of weights, suitable ...  \n",
       "3  Low-power event-driven neural computing archit...  \n",
       "4  Training neural networks on partitioned traini...  "
      ]
     },
     "execution_count": 152,
     "metadata": {},
     "output_type": "execute_result"
    }
   ],
   "source": [
    "seed_data = pd.DataFrame(patents['seed'])\n",
    "antiseed_data = pd.DataFrame(patents['antiseed'])\n",
    "antiseed_data['seed'] = 0\n",
    "seed_data['seed'] = 1\n",
    "all_data = antiseed_data\n",
    "all_data = all_data.append(seed_data)\n",
    "all_data = all_data.reset_index(drop=True)\n",
    "all_data = all_data.sample(frac=1).reset_index(drop=True)\n",
    "all_data['text'] = all_data['title'] + \" \" + all_data['abstract']\n",
    "all_data[:5]"
   ]
  },
  {
   "cell_type": "code",
   "execution_count": 153,
   "metadata": {},
   "outputs": [
    {
     "data": {
      "text/plain": [
       "0    780\n",
       "1    736\n",
       "Name: seed, dtype: int64"
      ]
     },
     "execution_count": 153,
     "metadata": {},
     "output_type": "execute_result"
    }
   ],
   "source": [
    "all_data['seed'].value_counts()"
   ]
  },
  {
   "cell_type": "markdown",
   "metadata": {},
   "source": [
    "## Prepare Data"
   ]
  },
  {
   "cell_type": "markdown",
   "metadata": {},
   "source": [
    "### Create Vectorizer"
   ]
  },
  {
   "cell_type": "code",
   "execution_count": 154,
   "metadata": {},
   "outputs": [],
   "source": [
    "stopwords = []\n",
    "with open('../stopwords.txt') as f:\n",
    "    lines = f.readlines()\n",
    "    for line in lines:\n",
    "        stopwords.append(line[:-1])"
   ]
  },
  {
   "cell_type": "code",
   "execution_count": 164,
   "metadata": {},
   "outputs": [],
   "source": [
    "vectorizer = CountVectorizer(stop_words = stopwords)"
   ]
  },
  {
   "cell_type": "code",
   "execution_count": 187,
   "metadata": {},
   "outputs": [],
   "source": [
    "X_raw = vectorizer.fit_transform(all_data['text'].values)\n",
    "svd = TruncatedSVD(n_components=100,random_state=42)\n",
    "X_raw = svd.fit_transform(X_raw)\n",
    "y_raw = all_data['seed'].values"
   ]
  },
  {
   "cell_type": "code",
   "execution_count": 188,
   "metadata": {},
   "outputs": [
    {
     "data": {
      "text/plain": [
       "(1, 100)"
      ]
     },
     "execution_count": 188,
     "metadata": {},
     "output_type": "execute_result"
    }
   ],
   "source": [
    "X.shape"
   ]
  },
  {
   "cell_type": "markdown",
   "metadata": {},
   "source": [
    "### Split training set"
   ]
  },
  {
   "cell_type": "code",
   "execution_count": 189,
   "metadata": {},
   "outputs": [],
   "source": [
    "n_initial = 100"
   ]
  },
  {
   "cell_type": "code",
   "execution_count": 190,
   "metadata": {},
   "outputs": [],
   "source": [
    "X_train, X_test, y_train, y_test = train_test_split(X_raw, y_raw)\n",
    "\n",
    "initial_idx = np.random.choice(range(X_train.shape[0]), size=n_initial, replace=False)\n",
    "\n",
    "X_initial, y_initial = X_train[initial_idx], y_train[initial_idx]\n",
    "X_pool, y_pool = np.delete(X_train, initial_idx, axis=0), np.delete(y_train, initial_idx, axis=0)"
   ]
  },
  {
   "cell_type": "code",
   "execution_count": 191,
   "metadata": {},
   "outputs": [
    {
     "data": {
      "text/plain": [
       "array([1, 1, 0, 1, 1, 0, 0, 1, 1, 1, 0, 0, 1, 1, 0, 1, 0, 0, 1, 1, 1, 0,\n",
       "       1, 1, 1, 0, 1, 1, 1, 0, 1, 1, 0, 1, 0, 0, 0, 1, 0, 1, 1, 1, 0, 0,\n",
       "       1, 1, 1, 1, 1, 0, 1, 1, 1, 0, 1, 0, 1, 0, 1, 1, 0, 0, 0, 0, 0, 0,\n",
       "       0, 0, 0, 0, 0, 0, 0, 0, 0, 1, 1, 1, 1, 1, 0, 0, 0, 1, 0, 1, 0, 1,\n",
       "       1, 0, 1, 0, 1, 0, 1, 0, 1, 1, 1, 0], dtype=int64)"
      ]
     },
     "execution_count": 191,
     "metadata": {},
     "output_type": "execute_result"
    }
   ],
   "source": [
    "y_initial"
   ]
  },
  {
   "cell_type": "markdown",
   "metadata": {},
   "source": [
    "## Initialize learner"
   ]
  },
  {
   "cell_type": "code",
   "execution_count": 192,
   "metadata": {},
   "outputs": [],
   "source": [
    "learner = ActiveLearner(\n",
    "    estimator=svm.SVC(kernel='linear', gamma='scale', C=2, degree=20, probability = True),\n",
    "    query_strategy=uncertainty_sampling,\n",
    "    X_training=X_initial, y_training=y_initial\n",
    ")"
   ]
  },
  {
   "cell_type": "code",
   "execution_count": 193,
   "metadata": {},
   "outputs": [
    {
     "data": {
      "text/plain": [
       "array([0, 1, 1, ..., 0, 1, 0], dtype=int64)"
      ]
     },
     "execution_count": 193,
     "metadata": {},
     "output_type": "execute_result"
    }
   ],
   "source": [
    "predictions = learner.predict(X_raw)\n",
    "is_correct = (predictions == y_raw)\n",
    "\n",
    "predictions"
   ]
  },
  {
   "cell_type": "code",
   "execution_count": 194,
   "metadata": {},
   "outputs": [],
   "source": [
    "unqueried_score = learner.score(X_raw, y_raw)\n"
   ]
  },
  {
   "cell_type": "markdown",
   "metadata": {},
   "source": [
    "### Active Learning loop"
   ]
  },
  {
   "cell_type": "code",
   "execution_count": 195,
   "metadata": {},
   "outputs": [
    {
     "name": "stdout",
     "output_type": "stream",
     "text": [
      "Accuracy after query 1: 0.8588\n",
      "Accuracy after query 2: 0.8582\n",
      "Accuracy after query 3: 0.8588\n",
      "Accuracy after query 4: 0.8621\n",
      "Accuracy after query 5: 0.8641\n",
      "Accuracy after query 6: 0.8654\n",
      "Accuracy after query 7: 0.8701\n",
      "Accuracy after query 8: 0.8786\n",
      "Accuracy after query 9: 0.8832\n",
      "Accuracy after query 10: 0.8786\n",
      "Accuracy after query 11: 0.8819\n",
      "Accuracy after query 12: 0.8813\n",
      "Accuracy after query 13: 0.8852\n",
      "Accuracy after query 14: 0.8813\n",
      "Accuracy after query 15: 0.8865\n",
      "Accuracy after query 16: 0.8872\n",
      "Accuracy after query 17: 0.8892\n",
      "Accuracy after query 18: 0.8912\n",
      "Accuracy after query 19: 0.8879\n",
      "Accuracy after query 20: 0.8879\n"
     ]
    }
   ],
   "source": [
    "N_QUERIES = 20\n",
    "performance_history = [unqueried_score]\n",
    "\n",
    "# Allow our model to query our unlabeled dataset for the most\n",
    "# informative points according to our query strategy (uncertainty sampling).\n",
    "for index in range(N_QUERIES):\n",
    "    query_index, query_instance = learner.query(X_pool)\n",
    "\n",
    "    # Teach our ActiveLearner model the record it has requested.\n",
    "    X, y = X_pool[query_index].reshape(1, -1), y_pool[query_index].reshape(1, )\n",
    "    learner.teach(X=X, y=y)\n",
    "\n",
    "    # Remove the queried instance from the unlabeled pool.\n",
    "    X_pool, y_pool = np.delete(X_pool, query_index, axis=0), np.delete(y_pool, query_index)\n",
    "\n",
    "    # Calculate and report our model's accuracy.\n",
    "    model_accuracy = learner.score(X_raw, y_raw)\n",
    "    print('Accuracy after query {n}: {acc:0.4f}'.format(n=index + 1, acc=model_accuracy))\n",
    "\n",
    "    # Save our model's performance for plotting.\n",
    "    performance_history.append(model_accuracy)"
   ]
  }
 ],
 "metadata": {
  "kernelspec": {
   "display_name": "Python 3",
   "language": "python",
   "name": "python3"
  },
  "language_info": {
   "codemirror_mode": {
    "name": "ipython",
    "version": 3
   },
   "file_extension": ".py",
   "mimetype": "text/x-python",
   "name": "python",
   "nbconvert_exporter": "python",
   "pygments_lexer": "ipython3",
   "version": "3.7.6"
  }
 },
 "nbformat": 4,
 "nbformat_minor": 5
}
