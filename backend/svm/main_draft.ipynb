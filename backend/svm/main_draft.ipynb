{
 "cells": [
  {
   "cell_type": "code",
   "execution_count": 41,
   "id": "advanced-movement",
   "metadata": {},
   "outputs": [],
   "source": [
    "from functions import *\n",
    "from time import time"
   ]
  },
  {
   "cell_type": "code",
   "execution_count": 39,
   "id": "documentary-inspector",
   "metadata": {},
   "outputs": [],
   "source": [
    "client = MongoClient(\"mongodb://compute1.cognac.cs.fiu.edu:59122/PatentData?readPreference=secondary&ssl=false\")\n",
    "db = client['PatentData']\n",
    "cluster = db['labels']"
   ]
  },
  {
   "cell_type": "code",
   "execution_count": 18,
   "id": "improved-speaker",
   "metadata": {},
   "outputs": [],
   "source": [
    "try:\n",
    "    stopwords = []\n",
    "    with open('stopwords.txt') as f:\n",
    "        lines = f.readlines()\n",
    "        for line in lines:\n",
    "            stopwords.append(line[:-1])\n",
    "except FileNotFoundError:\n",
    "    print('stopwords.txt not found, seeting stopwords=\"english\"')\n",
    "    stopwords=english"
   ]
  },
  {
   "cell_type": "code",
   "execution_count": 24,
   "id": "complete-butterfly",
   "metadata": {},
   "outputs": [
    {
     "name": "stdout",
     "output_type": "stream",
     "text": [
      "Checking for Base Model\n",
      "Model Successfully loaded\n"
     ]
    }
   ],
   "source": [
    "learner = None\n",
    "try:\n",
    "    print(\"Checking for Base Model\")\n",
    "    base_estimator = model_loader()\n",
    "    print(\"Model Successfully loaded\")\n",
    "except FileNotFoundError:\n",
    "    print(\"File not Found, creating a base model\")\n",
    "    learner = base_model_creator(client, stopwords)\n",
    "    "
   ]
  },
  {
   "cell_type": "code",
   "execution_count": 36,
   "id": "alike-panel",
   "metadata": {},
   "outputs": [],
   "source": [
    "if learner is None:\n",
    "    learner = ActiveLearner(\n",
    "        estimator=base_estimator,\n",
    "        query_strategy=uncertainty_sampling\n",
    "    )"
   ]
  },
  {
   "cell_type": "code",
   "execution_count": null,
   "id": "protecting-cyprus",
   "metadata": {},
   "outputs": [],
   "source": [
    "entries = 0\n",
    "ids = []\n",
    "target = []\n",
    "try:\n",
    "    try:\n",
    "        continue_after = load('continue_token.joblib')\n",
    "    except FileNotFoundError:\n",
    "        print('no token found')\n",
    "        continue_after = None\n",
    "        \n",
    "    if not continue_after:\n",
    "        with cluster.watch() as stream:\n",
    "            while stream.alive:\n",
    "                change = stream.next()\n",
    "                if change is not None:\n",
    "                    entry = change['fullDocument']\n",
    "                    entries +=1\n",
    "                    ids.append(entry['document'])\n",
    "                    target.append(entry['MachineLearningPatent'])\n",
    "                    if entries > 3:\n",
    "                        continue_after = change['_id']\n",
    "                        break\n",
    "\n",
    "        X, y = to_learn(client, ids, target, stopwords)\n",
    "        learner.teach(X=X, y=y)\n",
    "        \n",
    "    \n",
    "    with cluster.watch(resume_after=continue_after) as stream:\n",
    "        while stream.alive:\n",
    "            change = stream.next()\n",
    "            if change is not None:\n",
    "                entry = change['fullDocument']\n",
    "                entries +=1\n",
    "                ids.append(entry['document'])\n",
    "                target.append(entry['MachineLearningPatent'])\n",
    "                    if entries > 3:\n",
    "                        X, y = to_learn(client, ids, target, stopwords)\n",
    "                        learner.teach(X=X, y=y)\n",
    "                        continue_after = change['_id']\n",
    "                        dump(contiune_after,'continue_token.joblib')\n",
    "                        \n",
    "                        \n",
    "except KeyBoardInterrupt:\n",
    "    print(\"Interrupted\")\n",
    "print(\"Finalizing ... dumping continue_after\")\n",
    "dump(contiune_after,'continue_token.joblib')"
   ]
  }
 ],
 "metadata": {
  "kernelspec": {
   "display_name": "AL_env",
   "language": "python",
   "name": "al_env"
  },
  "language_info": {
   "codemirror_mode": {
    "name": "ipython",
    "version": 3
   },
   "file_extension": ".py",
   "mimetype": "text/x-python",
   "name": "python",
   "nbconvert_exporter": "python",
   "pygments_lexer": "ipython3",
   "version": "3.9.1"
  }
 },
 "nbformat": 4,
 "nbformat_minor": 5
}
