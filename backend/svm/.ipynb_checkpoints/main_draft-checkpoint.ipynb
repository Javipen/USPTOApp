{
 "cells": [
  {
   "cell_type": "code",
   "execution_count": 1,
   "id": "allied-thing",
   "metadata": {},
   "outputs": [],
   "source": [
    "from functions import *"
   ]
  },
  {
   "cell_type": "code",
   "execution_count": 7,
   "id": "allied-scoop",
   "metadata": {},
   "outputs": [],
   "source": [
    "client = MongoClient(\"mongodb://compute1.cognac.cs.fiu.edu:59122/PatentData?readPreference=secondary&ssl=false\")\n",
    "db = client['PatentData']"
   ]
  },
  {
   "cell_type": "code",
   "execution_count": 17,
   "id": "threaded-disposition",
   "metadata": {},
   "outputs": [
    {
     "ename": "IndentationError",
     "evalue": "expected an indented block (<ipython-input-17-151db984720b>, line 4)",
     "output_type": "error",
     "traceback": [
      "\u001b[0;36m  File \u001b[0;32m\"<ipython-input-17-151db984720b>\"\u001b[0;36m, line \u001b[0;32m4\u001b[0m\n\u001b[0;31m    lines = f.readlines()\u001b[0m\n\u001b[0m    ^\u001b[0m\n\u001b[0;31mIndentationError\u001b[0m\u001b[0;31m:\u001b[0m expected an indented block\n"
     ]
    }
   ],
   "source": [
    "try:\n",
    "    stopwords = []\n",
    "    with open('stopwords.txt') as f:\n",
    "        lines = f.readlines()\n",
    "        for line in lines:\n",
    "            stopwords.append(line[:-1])\n",
    "except FileNotFoundError:\n",
    "    print('stopwords.txt not found, seeting stopwords=\"english\"')\n",
    "    stopwords=english"
   ]
  },
  {
   "cell_type": "code",
   "execution_count": 16,
   "id": "significant-industry",
   "metadata": {},
   "outputs": [
    {
     "name": "stdout",
     "output_type": "stream",
     "text": [
      "File not Found, Creating a base model\n"
     ]
    }
   ],
   "source": [
    "try:\n",
    "    print(\"Checking for Base Model\")\n",
    "    base_estimator = model_loader()\n",
    "    print(\"Model Successfully loaded\")\n",
    "except FileNotFoundError:\n",
    "    print(\"File not Found, creating a base model\")\n",
    "    learner = base_model_creator(client, stopwords)\n",
    "    "
   ]
  }
 ],
 "metadata": {
  "kernelspec": {
   "display_name": "AL_env",
   "language": "python",
   "name": "al_env"
  },
  "language_info": {
   "codemirror_mode": {
    "name": "ipython",
    "version": 3
   },
   "file_extension": ".py",
   "mimetype": "text/x-python",
   "name": "python",
   "nbconvert_exporter": "python",
   "pygments_lexer": "ipython3",
   "version": "3.9.1"
  }
 },
 "nbformat": 4,
 "nbformat_minor": 5
}
