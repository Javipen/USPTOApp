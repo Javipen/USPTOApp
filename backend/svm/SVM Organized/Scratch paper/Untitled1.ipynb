{
 "cells": [
  {
   "cell_type": "code",
   "execution_count": 1,
   "id": "precise-services",
   "metadata": {},
   "outputs": [],
   "source": [
    "import pymongo\n",
    "from pymongo import MongoClient\n",
    "import time"
   ]
  },
  {
   "cell_type": "code",
   "execution_count": 2,
   "id": "received-monster",
   "metadata": {},
   "outputs": [],
   "source": [
    "client = MongoClient(\"mongodb://compute1.cognac.cs.fiu.edu:59122/PatentData?readPreference=secondary&ssl=false\")"
   ]
  },
  {
   "cell_type": "code",
   "execution_count": 3,
   "id": "julian-guard",
   "metadata": {},
   "outputs": [],
   "source": [
    "db = client['PatentData']"
   ]
  },
  {
   "cell_type": "code",
   "execution_count": 4,
   "id": "material-leone",
   "metadata": {},
   "outputs": [],
   "source": [
    "cluster = db['T_tester']"
   ]
  },
  {
   "cell_type": "code",
   "execution_count": 6,
   "id": "unexpected-croatia",
   "metadata": {},
   "outputs": [
    {
     "data": {
      "text/plain": [
       "<pymongo.results.InsertOneResult at 0x7f0348072640>"
      ]
     },
     "execution_count": 6,
     "metadata": {},
     "output_type": "execute_result"
    }
   ],
   "source": [
    "cluster.insert_one({'_id':140,'tester':False})"
   ]
  }
 ],
 "metadata": {
  "kernelspec": {
   "display_name": "Python 3",
   "language": "python",
   "name": "python3"
  },
  "language_info": {
   "codemirror_mode": {
    "name": "ipython",
    "version": 3
   },
   "file_extension": ".py",
   "mimetype": "text/x-python",
   "name": "python",
   "nbconvert_exporter": "python",
   "pygments_lexer": "ipython3",
   "version": "3.9.1"
  }
 },
 "nbformat": 4,
 "nbformat_minor": 5
}
