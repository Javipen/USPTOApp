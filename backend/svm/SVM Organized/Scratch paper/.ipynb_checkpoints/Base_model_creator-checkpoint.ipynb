{
 "cells": [
  {
   "cell_type": "code",
   "execution_count": 1,
   "id": "theoretical-remedy",
   "metadata": {},
   "outputs": [],
   "source": [
    "import pandas as pd\n",
    "import numpy as np\n",
    "import json\n",
    "\n",
    "import sklearn\n",
    "from sklearn.feature_extraction.text import CountVectorizer\n",
    "from sklearn.model_selection import train_test_split\n",
    "from sklearn import svm\n",
    "\n",
    "from sklearn.decomposition import TruncatedSVD\n",
    "\n",
    "from modAL.models import ActiveLearner\n",
    "from modAL.uncertainty import uncertainty_sampling\n",
    "\n",
    "import pickle\n",
    "from joblib import dump, load\n",
    "import pymongo\n",
    "from pymongo import MongoClient"
   ]
  },
  {
   "cell_type": "code",
   "execution_count": 2,
   "id": "selective-wichita",
   "metadata": {},
   "outputs": [],
   "source": [
    "client = MongoClient(\"mongodb://compute1.cognac.cs.fiu.edu:59122/PatentData?readPreference=secondary&ssl=false\")\n",
    "db = client['PatentData']\n",
    "collection = db['CSV_Patents']"
   ]
  },
  {
   "cell_type": "code",
   "execution_count": 42,
   "id": "advance-horizontal",
   "metadata": {},
   "outputs": [],
   "source": [
    "results = collection.find(limit = 500, filter = {'grp_ml': 'seed'})"
   ]
  },
  {
   "cell_type": "code",
   "execution_count": 43,
   "id": "driven-coaching",
   "metadata": {},
   "outputs": [],
   "source": [
    "seeds = pd.DataFrame(list(results))"
   ]
  },
  {
   "cell_type": "code",
   "execution_count": 45,
   "id": "polish-civilian",
   "metadata": {},
   "outputs": [],
   "source": [
    "antiseeds = pd.DataFrame(list(collection.find(limit = 500, filter = {'grp_ml': 'antiseed'})))"
   ]
  },
  {
   "cell_type": "code",
   "execution_count": 47,
   "id": "magnetic-document",
   "metadata": {},
   "outputs": [],
   "source": [
    "seeds['text'] = seeds['abstract']+\"\"+seeds['title']\n",
    "antiseeds['text'] = antiseeds['abstract']+\"\"+antiseeds['title']"
   ]
  },
  {
   "cell_type": "code",
   "execution_count": 49,
   "id": "medium-contract",
   "metadata": {},
   "outputs": [],
   "source": [
    "df = seeds.append(antiseeds)"
   ]
  },
  {
   "cell_type": "code",
   "execution_count": 53,
   "id": "german-diploma",
   "metadata": {},
   "outputs": [],
   "source": [
    "df = df.reset_index(drop=True)"
   ]
  },
  {
   "cell_type": "code",
   "execution_count": 57,
   "id": "integral-oakland",
   "metadata": {},
   "outputs": [],
   "source": [
    "data = df[['_id','text','grp_ml']]"
   ]
  },
  {
   "cell_type": "code",
   "execution_count": 58,
   "id": "stone-threshold",
   "metadata": {},
   "outputs": [
    {
     "name": "stderr",
     "output_type": "stream",
     "text": [
      "<ipython-input-58-a7b68a55c772>:1: SettingWithCopyWarning: \n",
      "A value is trying to be set on a copy of a slice from a DataFrame.\n",
      "Try using .loc[row_indexer,col_indexer] = value instead\n",
      "\n",
      "See the caveats in the documentation: https://pandas.pydata.org/pandas-docs/stable/user_guide/indexing.html#returning-a-view-versus-a-copy\n",
      "  data['grp_ml']= data.grp_ml.map(dict(seed=1, antiseed=0))\n"
     ]
    }
   ],
   "source": [
    "data['grp_ml']= data.grp_ml.map(dict(seed=1, antiseed=0))"
   ]
  },
  {
   "cell_type": "code",
   "execution_count": 61,
   "id": "alpha-century",
   "metadata": {},
   "outputs": [],
   "source": [
    "stopwords = []\n",
    "with open('stopwords.txt') as f:\n",
    "    lines = f.readlines()\n",
    "    for line in lines:\n",
    "        stopwords.append(line[:-1])"
   ]
  },
  {
   "cell_type": "code",
   "execution_count": 62,
   "id": "driving-convertible",
   "metadata": {},
   "outputs": [],
   "source": [
    "vectorizer = CountVectorizer(stop_words = stopwords)"
   ]
  },
  {
   "cell_type": "code",
   "execution_count": 64,
   "id": "solar-walter",
   "metadata": {},
   "outputs": [],
   "source": [
    "X = vectorizer.fit_transform(data['text'].values)\n",
    "svd = TruncatedSVD(n_components=100,random_state=42)\n",
    "X = svd.fit_transform(X)\n",
    "y = data['grp_ml'].values"
   ]
  },
  {
   "cell_type": "code",
   "execution_count": 66,
   "id": "grave-globe",
   "metadata": {},
   "outputs": [],
   "source": [
    "learner = ActiveLearner(\n",
    "    estimator=svm.SVC(kernel='linear', gamma='scale', C=2, probability = True),\n",
    "    query_strategy=uncertainty_sampling,\n",
    "    X_training=X, y_training=y\n",
    ")"
   ]
  },
  {
   "cell_type": "code",
   "execution_count": 81,
   "id": "insured-malaysia",
   "metadata": {},
   "outputs": [
    {
     "data": {
      "text/plain": [
       "['models/Final/base_model.joblib']"
      ]
     },
     "execution_count": 81,
     "metadata": {},
     "output_type": "execute_result"
    }
   ],
   "source": [
    "dump(learner.estimator,'models/Final/base_model.joblib')"
   ]
  },
  {
   "cell_type": "code",
   "execution_count": null,
   "id": "familiar-bibliography",
   "metadata": {},
   "outputs": [],
   "source": []
  }
 ],
 "metadata": {
  "kernelspec": {
   "display_name": "AL_env",
   "language": "python",
   "name": "al_env"
  },
  "language_info": {
   "codemirror_mode": {
    "name": "ipython",
    "version": 3
   },
   "file_extension": ".py",
   "mimetype": "text/x-python",
   "name": "python",
   "nbconvert_exporter": "python",
   "pygments_lexer": "ipython3",
   "version": "3.9.1"
  }
 },
 "nbformat": 4,
 "nbformat_minor": 5
}
