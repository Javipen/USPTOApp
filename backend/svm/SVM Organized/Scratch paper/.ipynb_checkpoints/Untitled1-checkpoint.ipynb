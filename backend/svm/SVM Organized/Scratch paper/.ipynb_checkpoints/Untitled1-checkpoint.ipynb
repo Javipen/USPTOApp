{
 "cells": [
  {
   "cell_type": "code",
   "execution_count": 5,
   "id": "worse-leader",
   "metadata": {},
   "outputs": [],
   "source": [
    "import pymongo\n",
    "from pymongo import MongoClient\n",
    "import time"
   ]
  },
  {
   "cell_type": "code",
   "execution_count": 6,
   "id": "guilty-worship",
   "metadata": {},
   "outputs": [],
   "source": [
    "client = MongoClient(\"mongodb://compute1.cognac.cs.fiu.edu:59122/PatentData?readPreference=secondary&ssl=false\")"
   ]
  },
  {
   "cell_type": "code",
   "execution_count": 7,
   "id": "according-expense",
   "metadata": {},
   "outputs": [],
   "source": [
    "db = client['PatentData']"
   ]
  },
  {
   "cell_type": "code",
   "execution_count": 8,
   "id": "magnetic-monitor",
   "metadata": {},
   "outputs": [],
   "source": [
    "cluster = db['T_tester']"
   ]
  },
  {
   "cell_type": "code",
   "execution_count": 24,
   "id": "handy-antenna",
   "metadata": {},
   "outputs": [
    {
     "data": {
      "text/plain": [
       "<pymongo.results.InsertOneResult at 0x7fc0160fdd00>"
      ]
     },
     "execution_count": 24,
     "metadata": {},
     "output_type": "execute_result"
    }
   ],
   "source": [
    "cluster.insert_one({'_id':138,'tester':False})"
   ]
  }
 ],
 "metadata": {
  "kernelspec": {
   "display_name": "Python 3",
   "language": "python",
   "name": "python3"
  },
  "language_info": {
   "codemirror_mode": {
    "name": "ipython",
    "version": 3
   },
   "file_extension": ".py",
   "mimetype": "text/x-python",
   "name": "python",
   "nbconvert_exporter": "python",
   "pygments_lexer": "ipython3",
   "version": "3.9.1"
  }
 },
 "nbformat": 4,
 "nbformat_minor": 5
}
