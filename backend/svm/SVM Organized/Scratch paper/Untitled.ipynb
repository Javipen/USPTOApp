{
 "cells": [
  {
   "cell_type": "code",
   "execution_count": 8,
   "id": "electric-museum",
   "metadata": {},
   "outputs": [],
   "source": [
    "import pymongo\n",
    "from pymongo import MongoClient\n",
    "import time"
   ]
  },
  {
   "cell_type": "code",
   "execution_count": 9,
   "id": "adjusted-boards",
   "metadata": {},
   "outputs": [],
   "source": [
    "client = MongoClient(\"mongodb://compute1.cognac.cs.fiu.edu:59122/PatentData?readPreference=secondary&ssl=false\")"
   ]
  },
  {
   "cell_type": "code",
   "execution_count": 10,
   "id": "meaning-underwear",
   "metadata": {},
   "outputs": [],
   "source": [
    "db = client['PatentData']"
   ]
  },
  {
   "cell_type": "code",
   "execution_count": 11,
   "id": "middle-seventh",
   "metadata": {},
   "outputs": [],
   "source": [
    "cluster = db['labels']"
   ]
  },
  {
   "cell_type": "code",
   "execution_count": 13,
   "id": "higher-operation",
   "metadata": {},
   "outputs": [
    {
     "name": "stdout",
     "output_type": "stream",
     "text": [
      "blocking\n",
      "not blocking\n",
      "{'_id': {'_data': '826049503D000000012B022C0100296E5A100427390B0273584933AAA5B7888E3FAFBB46645F696400646049503C258075334DC2B44A0004'}, 'operationType': 'insert', 'clusterTime': Timestamp(1615417405, 1), 'fullDocument': {'_id': ObjectId('6049503c258075334dc2b44a'), 'document': '08359107', 'MachineLearningPatent': 'No', 'Hardware': 'No', 'EVO': 'No', 'Speech': 'No', 'Vision': 'No', 'NLP': 'No', 'Planning': 'No', 'KnowledgeProcessing': 'No', '__v': 0}, 'ns': {'db': 'PatentData', 'coll': 'labels'}, 'documentKey': {'_id': ObjectId('6049503c258075334dc2b44a')}}\n"
     ]
    }
   ],
   "source": [
    "with db.watch() as stream:\n",
    "    while stream.alive:\n",
    "        print('blocking')\n",
    "        change = stream.next()\n",
    "        print('not blocking')\n",
    "        if change is not None:\n",
    "            print(change)\n",
    "            continue_after = change['_id']\n",
    "            break"
   ]
  },
  {
   "cell_type": "code",
   "execution_count": 14,
   "id": "prompt-simulation",
   "metadata": {},
   "outputs": [],
   "source": [
    "from joblib import dump, load"
   ]
  },
  {
   "cell_type": "code",
   "execution_count": 15,
   "id": "duplicate-laser",
   "metadata": {},
   "outputs": [
    {
     "data": {
      "text/plain": [
       "['continue_tester.joblib']"
      ]
     },
     "execution_count": 15,
     "metadata": {},
     "output_type": "execute_result"
    }
   ],
   "source": [
    "dump(continue_after, 'continue_tester.joblib')"
   ]
  }
 ],
 "metadata": {
  "kernelspec": {
   "display_name": "AL_env",
   "language": "python",
   "name": "al_env"
  },
  "language_info": {
   "codemirror_mode": {
    "name": "ipython",
    "version": 3
   },
   "file_extension": ".py",
   "mimetype": "text/x-python",
   "name": "python",
   "nbconvert_exporter": "python",
   "pygments_lexer": "ipython3",
   "version": "3.9.1"
  }
 },
 "nbformat": 4,
 "nbformat_minor": 5
}
