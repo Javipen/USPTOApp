{
 "cells": [
  {
   "cell_type": "code",
   "execution_count": 2,
   "id": "pointed-offense",
   "metadata": {},
   "outputs": [],
   "source": [
    "import pandas as pd\n",
    "import numpy as np\n",
    "import json\n",
    "\n",
    "import sklearn\n",
    "from sklearn.feature_extraction.text import CountVectorizer\n",
    "from sklearn.model_selection import train_test_split\n",
    "from sklearn import svm\n",
    "\n",
    "from sklearn.decomposition import TruncatedSVD\n",
    "\n",
    "from modAL.models import ActiveLearner\n",
    "from modAL.uncertainty import uncertainty_sampling\n",
    "\n",
    "import pickle\n",
    "from joblib import dump, load\n",
    "import pymongo\n",
    "from pymongo import MongoClient"
   ]
  },
  {
   "cell_type": "markdown",
   "id": "subjective-birth",
   "metadata": {},
   "source": [
    "## Process and Teach\n",
    "### get list of ids and list of 'txt' field\n",
    "### match vectorize and return for learning"
   ]
  },
  {
   "cell_type": "code",
   "execution_count": 25,
   "id": "instructional-rebecca",
   "metadata": {},
   "outputs": [],
   "source": [
    "client = MongoClient(\"mongodb://compute1.cognac.cs.fiu.edu:59122/PatentData?readPreference=secondary&ssl=false\")\n",
    "db = client['PatentData']\n",
    "collection = db['Patents']"
   ]
  },
  {
   "cell_type": "code",
   "execution_count": 63,
   "id": "leading-oracle",
   "metadata": {},
   "outputs": [],
   "source": [
    "##mocked parameters\n",
    "ids = ['05664062', '08037928', '09037463']\n",
    "target = ['No', 'No','No']"
   ]
  },
  {
   "cell_type": "code",
   "execution_count": 59,
   "id": "spatial-jimmy",
   "metadata": {},
   "outputs": [],
   "source": [
    "stopwords = []\n",
    "with open('stopwords.txt') as f:\n",
    "    lines = f.readlines()\n",
    "    for line in lines:\n",
    "        stopwords.append(line[:-1])"
   ]
  },
  {
   "cell_type": "code",
   "execution_count": 64,
   "id": "expected-background",
   "metadata": {},
   "outputs": [],
   "source": [
    "entries = collection.find(filter = {'documentId':{'$in':ids}})"
   ]
  },
  {
   "cell_type": "code",
   "execution_count": 65,
   "id": "native-public",
   "metadata": {},
   "outputs": [],
   "source": [
    "entries = list(entries)"
   ]
  },
  {
   "cell_type": "code",
   "execution_count": 66,
   "id": "liberal-luxembourg",
   "metadata": {},
   "outputs": [],
   "source": [
    "txt = [p['abstract']+''+p['title'] for p in entries]\n",
    "lst = list(map(lambda x: 1 if x=='Yes' else 0, ids))"
   ]
  },
  {
   "cell_type": "code",
   "execution_count": 67,
   "id": "computational-pension",
   "metadata": {},
   "outputs": [],
   "source": [
    "df = pd.DataFrame(data = {'id':ids,'text':txt,'target':lst})"
   ]
  },
  {
   "cell_type": "code",
   "execution_count": 68,
   "id": "preceding-creation",
   "metadata": {},
   "outputs": [],
   "source": [
    "vectorizer = CountVectorizer(stop_words = stopwords)"
   ]
  },
  {
   "cell_type": "code",
   "execution_count": 69,
   "id": "unlike-island",
   "metadata": {},
   "outputs": [],
   "source": [
    "X = vectorizer.fit_transform(df['text'].values)\n",
    "svd = TruncatedSVD(n_components=100,random_state=42)\n",
    "X = svd.fit_transform(X)\n",
    "y = df['target'].values"
   ]
  },
  {
   "cell_type": "code",
   "execution_count": null,
   "id": "raising-watch",
   "metadata": {},
   "outputs": [],
   "source": [
    "#return\n",
    "X, y"
   ]
  }
 ],
 "metadata": {
  "kernelspec": {
   "display_name": "AL_env",
   "language": "python",
   "name": "al_env"
  },
  "language_info": {
   "codemirror_mode": {
    "name": "ipython",
    "version": 3
   },
   "file_extension": ".py",
   "mimetype": "text/x-python",
   "name": "python",
   "nbconvert_exporter": "python",
   "pygments_lexer": "ipython3",
   "version": "3.9.1"
  }
 },
 "nbformat": 4,
 "nbformat_minor": 5
}
